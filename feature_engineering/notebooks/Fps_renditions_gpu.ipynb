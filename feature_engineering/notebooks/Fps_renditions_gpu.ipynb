{
 "cells": [
  {
   "cell_type": "markdown",
   "metadata": {
    "pycharm": {
     "name": "#%% md\n"
    }
   },
   "source": [
    "# Classification metrics for FPS-adjusted renditions generated with GPU codec\n",
    "#### Data is generated with testing/test_var_fps_classification.py script"
   ]
  },
  {
   "cell_type": "code",
   "execution_count": 5,
   "metadata": {},
   "outputs": [],
   "source": [
    "import pandas as pd\n",
    "import numpy as np\n",
    "from sklearn.metrics import classification_report\n",
    "pd.options.display.width = 0\n",
    "pd.set_option('display.max_columns', None)\n",
    "from IPython.display import display"
   ]
  },
  {
   "cell_type": "code",
   "execution_count": 6,
   "metadata": {
    "pycharm": {
     "name": "#%%\n"
    }
   },
   "outputs": [],
   "source": [
    "# load data\n",
    "df = pd.read_csv('test_fps_renditions_gpu.csv')\n",
    "df.set_index(['master_filename', 'rendition_type'], inplace=True)\n",
    "df.sort_index(inplace=True)"
   ]
  },
  {
   "cell_type": "code",
   "execution_count": 7,
   "metadata": {
    "pycharm": {
     "name": "#%%\n"
    }
   },
   "outputs": [],
   "source": [
    "# estimate classification metrics\n",
    "df['ground_truth'] = np.where(df['is_correct'], 'Correct', 'Tamper')\n",
    "df['prediction'] = np.where(df['score']>0, 'Correct', 'Tamper')"
   ]
  },
  {
   "cell_type": "code",
   "execution_count": 8,
   "metadata": {
    "pycharm": {
     "name": "#%%\n"
    },
    "scrolled": true
   },
   "outputs": [
    {
     "name": "stdout",
     "output_type": "stream",
     "text": [
      "Non-framerate adjusted renditions:\n",
      "              precision    recall  f1-score   support\n",
      "\n",
      "     Correct       0.74      0.94      0.83        64\n",
      "      Tamper       0.91      0.67      0.77        64\n",
      "\n",
      "    accuracy                           0.80       128\n",
      "   macro avg       0.83      0.80      0.80       128\n",
      "weighted avg       0.83      0.80      0.80       128\n",
      "\n"
     ]
    }
   ],
   "source": [
    "print('Non-framerate adjusted renditions:')\n",
    "df_non_fps = df.query('not rendition_type.str.contains(\"fps\")')\n",
    "print(classification_report(df_non_fps['ground_truth'], df_non_fps['prediction']))"
   ]
  },
  {
   "cell_type": "code",
   "execution_count": 10,
   "metadata": {
    "pycharm": {
     "name": "#%%\n"
    }
   },
   "outputs": [
    {
     "name": "stdout",
     "output_type": "stream",
     "text": [
      "All FPS-adjusted renditions report:\n",
      "              precision    recall  f1-score   support\n",
      "\n",
      "     Correct       0.82      0.52      0.64        44\n",
      "      Tamper       0.65      0.89      0.75        44\n",
      "\n",
      "    accuracy                           0.70        88\n",
      "   macro avg       0.74      0.70      0.69        88\n",
      "weighted avg       0.74      0.70      0.69        88\n",
      "\n"
     ]
    }
   ],
   "source": [
    "print('All FPS-adjusted renditions report:')\n",
    "df_fps = df.query('rendition_type.str.contains(\"fps\")')\n",
    "df_fps\n",
    "print(classification_report(df_fps['ground_truth'], df_fps['prediction']))"
   ]
  },
  {
   "cell_type": "code",
   "execution_count": 11,
   "metadata": {
    "pycharm": {
     "name": "#%%\n"
    },
    "scrolled": true
   },
   "outputs": [
    {
     "name": "stdout",
     "output_type": "stream",
     "text": [
      "FPS-adjusted 30-60 FPS renditions report:\n",
      "              precision    recall  f1-score   support\n",
      "\n",
      "     Correct       0.80      0.51      0.62        39\n",
      "      Tamper       0.64      0.87      0.74        39\n",
      "\n",
      "    accuracy                           0.69        78\n",
      "   macro avg       0.72      0.69      0.68        78\n",
      "weighted avg       0.72      0.69      0.68        78\n",
      "\n"
     ]
    }
   ],
   "source": [
    "print('FPS-adjusted 30-60 FPS renditions report:')\n",
    "df_fps = df.query('rendition_type.str.contains(\"30-60fps\") or rendition_type.str.contains(\"60-30fps\")')\n",
    "print(classification_report(df_fps['ground_truth'], df_fps['prediction']))"
   ]
  },
  {
   "cell_type": "code",
   "execution_count": 12,
   "metadata": {},
   "outputs": [
    {
     "name": "stdout",
     "output_type": "stream",
     "text": [
      "Non-divisible FPS-adjusted renditions report:\n",
      "              precision    recall  f1-score   support\n",
      "\n",
      "     Correct       0.75      0.91      0.82        69\n",
      "      Tamper       0.89      0.70      0.78        69\n",
      "\n",
      "    accuracy                           0.80       138\n",
      "   macro avg       0.82      0.80      0.80       138\n",
      "weighted avg       0.82      0.80      0.80       138\n",
      "\n"
     ]
    }
   ],
   "source": [
    "print('Non-divisible FPS-adjusted renditions report:')\n",
    "df_fps = df.query('not rendition_type.str.contains(\"30-60fps\") and not rendition_type.str.contains(\"60-30fps\")')\n",
    "print(classification_report(df_fps['ground_truth'], df_fps['prediction']))"
   ]
  },
  {
   "cell_type": "code",
   "execution_count": 7,
   "metadata": {},
   "outputs": [],
   "source": []
  }
 ],
 "metadata": {
  "kernelspec": {
   "display_name": "Python 3",
   "language": "python",
   "name": "python3"
  },
  "language_info": {
   "codemirror_mode": {
    "name": "ipython",
    "version": 3
   },
   "file_extension": ".py",
   "mimetype": "text/x-python",
   "name": "python",
   "nbconvert_exporter": "python",
   "pygments_lexer": "ipython3",
   "version": "3.6.7"
  },
  "widgets": {
   "application/vnd.jupyter.widget-state+json": {
    "state": {},
    "version_major": 2,
    "version_minor": 0
   }
  }
 },
 "nbformat": 4,
 "nbformat_minor": 1
}